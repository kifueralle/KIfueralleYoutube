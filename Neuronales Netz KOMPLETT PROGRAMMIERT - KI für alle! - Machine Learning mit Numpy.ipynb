{
 "cells": [
  {
   "cell_type": "code",
   "execution_count": 1,
   "metadata": {},
   "outputs": [],
   "source": [
    "import numpy as np"
   ]
  },
  {
   "cell_type": "code",
   "execution_count": 2,
   "metadata": {},
   "outputs": [],
   "source": [
    "input_data = np.array([[0,0], [0,1], [1,0], [1,1]])\n",
    "\n",
    "y = np.array([[0], [1], [1], [0]])"
   ]
  },
  {
   "cell_type": "code",
   "execution_count": 3,
   "metadata": {},
   "outputs": [],
   "source": [
    "def sigmoid(x):\n",
    "    return 1/(1+np.exp(-x))"
   ]
  },
  {
   "cell_type": "code",
   "execution_count": 4,
   "metadata": {},
   "outputs": [],
   "source": [
    "def sigmoid_derivative(x):\n",
    "    return x*(1-x)"
   ]
  },
  {
   "cell_type": "code",
   "execution_count": 5,
   "metadata": {},
   "outputs": [],
   "source": [
    "def weight_initialisation(inputs):\n",
    "    weights_1 = np.random.rand(inputs.shape[1],4)\n",
    "    weights_2 = np.random.rand(4,1)\n",
    "    return weights_1, weights_2"
   ]
  },
  {
   "cell_type": "code",
   "execution_count": 6,
   "metadata": {},
   "outputs": [],
   "source": [
    "def forward_pass(inputs, weights_1, weights_2):\n",
    "    output_1 = sigmoid(np.dot(inputs, weights_1))\n",
    "    output = sigmoid(np.dot(output_1, weights_2))\n",
    "    return output_1, output"
   ]
  },
  {
   "cell_type": "code",
   "execution_count": 7,
   "metadata": {},
   "outputs": [],
   "source": [
    "def backward_pass(output_1, output, y, inputs, weights_2):\n",
    "    delta_w_2 = np.dot(output_1.T, (2* (y-output)*sigmoid_derivative(output)))\n",
    "    delta_w_1 = np.dot(inputs.T, (np.dot(2*(y-output)*sigmoid_derivative(output), weights_2.T)*sigmoid_derivative(output_1)))\n",
    "    return delta_w_2, delta_w_1"
   ]
  },
  {
   "cell_type": "code",
   "execution_count": 8,
   "metadata": {},
   "outputs": [],
   "source": [
    "def weight_update(weights_1, delta_w_1, weights_2, delta_w_2):\n",
    "    weights_1 += delta_w_1* 0.03\n",
    "    weights_2 += delta_w_2*0.03\n",
    "    return weights_1, weights_2"
   ]
  },
  {
   "cell_type": "code",
   "execution_count": 9,
   "metadata": {},
   "outputs": [],
   "source": [
    "def training(inputs,epochs):\n",
    "    w_1,w_2 = weight_initialisation(inputs)\n",
    "    for i in range(epochs):\n",
    "        act_output_1, act_output = forward_pass(inputs, w_1, w_2)\n",
    "        act_delta_2, act_delta_1 = backward_pass(act_output_1, act_output, y, inputs, w_2)\n",
    "        w_1, w_2 = weight_update(w_1, act_delta_1, w_2, act_delta_2)\n",
    "    return w_1, w_2"
   ]
  },
  {
   "cell_type": "code",
   "execution_count": 10,
   "metadata": {},
   "outputs": [],
   "source": [
    "w_1_new, w_2_new = training(input_data, 100000)"
   ]
  },
  {
   "cell_type": "code",
   "execution_count": 11,
   "metadata": {},
   "outputs": [],
   "source": [
    "layer_1_output, prediction_NN = forward_pass(input_data,w_1_new, w_2_new)"
   ]
  },
  {
   "cell_type": "code",
   "execution_count": 12,
   "metadata": {},
   "outputs": [
    {
     "data": {
      "text/plain": [
       "array([[0.03741822],\n",
       "       [0.97393487],\n",
       "       [0.97640134],\n",
       "       [0.01323364]])"
      ]
     },
     "execution_count": 12,
     "metadata": {},
     "output_type": "execute_result"
    }
   ],
   "source": [
    "prediction_NN"
   ]
  },
  {
   "cell_type": "code",
   "execution_count": 13,
   "metadata": {},
   "outputs": [
    {
     "data": {
      "text/plain": [
       "array([[0, 0],\n",
       "       [0, 1],\n",
       "       [1, 0],\n",
       "       [1, 1]])"
      ]
     },
     "execution_count": 13,
     "metadata": {},
     "output_type": "execute_result"
    }
   ],
   "source": [
    "input_data"
   ]
  }
 ],
 "metadata": {
  "kernelspec": {
   "display_name": "Python 3",
   "language": "python",
   "name": "python3"
  },
  "language_info": {
   "codemirror_mode": {
    "name": "ipython",
    "version": 3
   },
   "file_extension": ".py",
   "mimetype": "text/x-python",
   "name": "python",
   "nbconvert_exporter": "python",
   "pygments_lexer": "ipython3",
   "version": "3.6.5"
  }
 },
 "nbformat": 4,
 "nbformat_minor": 2
}
